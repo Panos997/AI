{
  "nbformat": 4,
  "nbformat_minor": 0,
  "metadata": {
    "colab": {
      "provenance": [],
      "toc_visible": true,
      "authorship_tag": "ABX9TyPfD2BzJIVdKvRpCt5DpPEH",
      "include_colab_link": true
    },
    "kernelspec": {
      "name": "python3",
      "display_name": "Python 3"
    },
    "language_info": {
      "name": "python"
    }
  },
  "cells": [
    {
      "cell_type": "markdown",
      "metadata": {
        "id": "view-in-github",
        "colab_type": "text"
      },
      "source": [
        "<a href=\"https://colab.research.google.com/github/Panos997/AI/blob/main/Untitled0.ipynb\" target=\"_parent\"><img src=\"https://colab.research.google.com/assets/colab-badge.svg\" alt=\"Open In Colab\"/></a>"
      ]
    },
    {
      "cell_type": "code",
      "execution_count": null,
      "metadata": {
        "id": "OC4WOCam3yrX"
      },
      "outputs": [],
      "source": [
        "!git clone https://github.com/Panos997/AI.git\n",
        "%cd AI/auto_tagging_generator\n"
      ]
    },
    {
      "cell_type": "code",
      "source": [
        "from AI.auto_tagging_generator.ui import run_app\n",
        "run_app()"
      ],
      "metadata": {
        "id": "IhgoBr_C3zT5"
      },
      "execution_count": null,
      "outputs": []
    }
  ]
}
